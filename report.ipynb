{
 "cells": [
  {
   "cell_type": "markdown",
   "id": "a72e7558",
   "metadata": {},
   "source": [
    "# TELCO Churn Report\n",
    "\n",
    "### Goals\n",
    "- Identify Drivers of Churn\n",
    "- Build a Model that accurately predicts churn better than the baseline (of predicting no churn)\n",
    "\n",
    "### Initial Hypotheses\n",
    "- Contract status, Internet subscription status, partner status, payment type are all drivers of change."
   ]
  },
  {
   "cell_type": "code",
   "execution_count": 1,
   "id": "efe5d2b8",
   "metadata": {},
   "outputs": [],
   "source": [
    "# ignore warnings\n",
    "import warnings\n",
    "warnings.filterwarnings(\"ignore\")\n",
    "\n",
    "#import relevant libraries\n",
    "import pandas as pd\n",
    "import numpy as np\n",
    "import os\n",
    "import matplotlib.pyplot as plt\n",
    "import seaborn as sns\n",
    "from scipy import stats\n",
    "from sklearn.model_selection import train_test_split\n",
    "from env import host, user, password\n",
    "\n",
    "import wrangle"
   ]
  },
  {
   "cell_type": "code",
   "execution_count": 2,
   "id": "f561713e",
   "metadata": {},
   "outputs": [],
   "source": [
    "# import raw telco data\n",
    "raw_telco = wrangle.new_telco_data()"
   ]
  },
  {
   "cell_type": "code",
   "execution_count": 3,
   "id": "5fb02ce3",
   "metadata": {},
   "outputs": [],
   "source": [
    "# Columns to drop: customer_id (can be added back later for predection), payment_type_id, \n",
    "# internet_service_type_id, contract_type_id, multiple_lines, online_security, online_backup, \n",
    "# device_protection, tech_support, streaming_tv, streaming_movies, paperless_billing\n",
    "\n",
    "# Pass to prepare function which will return our train, validate, test data sets\n",
    "\n",
    "wrangled_telco, train, validate, test = wrangle.clean_prep_telco(raw_telco)"
   ]
  },
  {
   "cell_type": "code",
   "execution_count": 4,
   "id": "96a2efb5",
   "metadata": {},
   "outputs": [],
   "source": [
    "# Contracts impact length of tenure.\n",
    "# First start basic and verify mathematically that contract type is not independent of tenure\n",
    "# Null Hypothesis - Contract type is independent of Churn\n",
    "\n",
    "telco_contract_churn_observed = pd.crosstab(wrangled_telco.churn, wrangled_telco.contract_type_no_contract)"
   ]
  },
  {
   "cell_type": "code",
   "execution_count": 5,
   "id": "51156948",
   "metadata": {},
   "outputs": [
    {
     "name": "stdout",
     "output_type": "stream",
     "text": [
      "Observed\n",
      "\n",
      "[[2954 2220]\n",
      " [ 214 1655]]\n",
      "---\n",
      "Expected\n",
      "\n",
      "[[2327.30824933 2846.69175067]\n",
      " [ 840.69175067 1028.30824933]]\n",
      "---\n",
      "\n",
      "chi^2 = 1153.9717\n",
      "p     = 0.0000\n"
     ]
    }
   ],
   "source": [
    "chi2, p, degf, expected = stats.chi2_contingency(telco_contract_churn_observed)\n",
    "\n",
    "print('Observed\\n')\n",
    "print(telco_contract_churn_observed.values)\n",
    "print('---\\nExpected\\n')\n",
    "print(expected)\n",
    "print('---\\n')\n",
    "print(f'chi^2 = {chi2:.4f}')\n",
    "print(f'p     = {p:.4f}')"
   ]
  },
  {
   "cell_type": "markdown",
   "id": "b44fa5be",
   "metadata": {},
   "source": [
    "## Observed\n",
    "\n",
    "[[2954 2220]\n",
    " [ 214 1655]]\n",
    "---\n",
    "## Expected\n",
    "\n",
    "[[2327.30824933 2846.69175067]\n",
    " [ 840.69175067 1028.30824933]]\n",
    "---\n",
    "\n",
    "- chi^2 = 1153.9717\n",
    "- p     = 0.0000\n",
    "\n",
    "### With this low a P-value, that means we can reject our null hypothesis that contract type and churn are independent."
   ]
  },
  {
   "cell_type": "code",
   "execution_count": 6,
   "id": "44c9ec2b",
   "metadata": {},
   "outputs": [
    {
     "data": {
      "image/png": "[encoded data removed]",
      "text/plain": [
       "<Figure size 432x288 with 1 Axes>"
      ]
     },
     "metadata": {
      "needs_background": "light"
     },
     "output_type": "display_data"
    }
   ],
   "source": [
    "# p value of 0.0000, we reject our null hypothesis that they are independent\n",
    "\n",
    "# Help visualize this by looking at average tenure length between contract types\n",
    "plt.title(\"Tenure by Contract Type\")\n",
    "sns.barplot(x=\"contract_type_no_contract\", y=\"tenure\", data=wrangled_telco)\n",
    "plt.show()"
   ]
  },
  {
   "cell_type": "code",
   "execution_count": 7,
   "id": "96040116",
   "metadata": {},
   "outputs": [
    {
     "data": {
      "text/html": [
       "<div>\n",
       "<style scoped>\n",
       "    .dataframe tbody tr th:only-of-type {\n",
       "        vertical-align: middle;\n",
       "    }\n",
       "\n",
       "    .dataframe tbody tr th {\n",
       "        vertical-align: top;\n",
       "    }\n",
       "\n",
       "    .dataframe thead th {\n",
       "        text-align: right;\n",
       "    }\n",
       "</style>\n",
       "<table border=\"1\" class=\"dataframe\">\n",
       "  <thead>\n",
       "    <tr style=\"text-align: right;\">\n",
       "      <th>payment_type_manual_payment</th>\n",
       "      <th>0</th>\n",
       "      <th>1</th>\n",
       "    </tr>\n",
       "    <tr>\n",
       "      <th>churn</th>\n",
       "      <th></th>\n",
       "      <th></th>\n",
       "    </tr>\n",
       "  </thead>\n",
       "  <tbody>\n",
       "    <tr>\n",
       "      <th>No</th>\n",
       "      <td>2576</td>\n",
       "      <td>2598</td>\n",
       "    </tr>\n",
       "    <tr>\n",
       "      <th>Yes</th>\n",
       "      <td>490</td>\n",
       "      <td>1379</td>\n",
       "    </tr>\n",
       "  </tbody>\n",
       "</table>\n",
       "</div>"
      ],
      "text/plain": [
       "payment_type_manual_payment     0     1\n",
       "churn                                  \n",
       "No                           2576  2598\n",
       "Yes                           490  1379"
      ]
     },
     "execution_count": 7,
     "metadata": {},
     "output_type": "execute_result"
    }
   ],
   "source": [
    "# Does payment type (manual vs. automatic) status impact length of tenure.\n",
    "# Verify mathematically that whether or not customer has a partner is not independent of tenure\n",
    "# Null Hypothesis - Payment type is independent of Churn\n",
    "\n",
    "telco_payment_churn_observed = pd.crosstab(wrangled_telco.churn, wrangled_telco.payment_type_manual_payment)\n",
    "telco_payment_churn_observed"
   ]
  },
  {
   "cell_type": "code",
   "execution_count": 8,
   "id": "a2864a76",
   "metadata": {},
   "outputs": [
    {
     "name": "stdout",
     "output_type": "stream",
     "text": [
      "Observed\n",
      "\n",
      "[[2576 2598]\n",
      " [ 490 1379]]\n",
      "---\n",
      "Expected\n",
      "\n",
      "[[2252.37597615 2921.62402385]\n",
      " [ 813.62402385 1055.37597615]]\n",
      "---\n",
      "\n",
      "chi^2 = 309.3486\n",
      "p     = 0.0000\n"
     ]
    }
   ],
   "source": [
    "chi2, p, degf, expected = stats.chi2_contingency(telco_payment_churn_observed)\n",
    "\n",
    "print('Observed\\n')\n",
    "print(telco_payment_churn_observed.values)\n",
    "print('---\\nExpected\\n')\n",
    "print(expected)\n",
    "print('---\\n')\n",
    "print(f'chi^2 = {chi2:.4f}')\n",
    "print(f'p     = {p:.4f}')"
   ]
  },
  {
   "cell_type": "markdown",
   "id": "11f5cb8d",
   "metadata": {},
   "source": [
    "## Observed\n",
    "\n",
    "[[2576 2598]\n",
    " [ 490 1379]]\n",
    "---\n",
    "## Expected\n",
    "\n",
    "[[2252.37597615 2921.62402385]\n",
    " [ 813.62402385 1055.37597615]]\n",
    "---\n",
    "\n",
    "- chi^2 = 309.3486\n",
    "- p     = 0.0000\n",
    "\n",
    "### With this low a P-value, that means we can reject our null hypothesis that contract type and churn are independent."
   ]
  },
  {
   "cell_type": "code",
   "execution_count": 9,
   "id": "da4c467f",
   "metadata": {},
   "outputs": [
    {
     "data": {
      "image/png": "[encoded data removed]",
      "text/plain": [
       "<Figure size 432x288 with 1 Axes>"
      ]
     },
     "metadata": {
      "needs_background": "light"
     },
     "output_type": "display_data"
    }
   ],
   "source": [
    "# p value of 0.0000, we reject our null hypothesis that they are independent\n",
    "\n",
    "# Help visualize this by looking at average tenure length by payment type (automatic vs. manual)\n",
    "plt.title(\"Tenure by Payment Type\")\n",
    "sns.barplot(x=\"payment_type_manual_payment\", y=\"tenure\", data=wrangled_telco)\n",
    "plt.show()"
   ]
  },
  {
   "cell_type": "code",
   "execution_count": 10,
   "id": "92c26fe5",
   "metadata": {},
   "outputs": [],
   "source": [
    "# cols_to_drop = ['churn', 'baseline_prediction', 'total_charges', 'monthly_charges', 'internet_service_type_Fiber optic', 'internet_service_type_None']\n",
    "\n",
    "cols_to_drop = ['churn', 'total_charges', 'monthly_charges']\n",
    "\n",
    "X_train = train.drop(columns=cols_to_drop)\n",
    "y_train = train.churn\n",
    "\n",
    "X_validate = validate.drop(columns=cols_to_drop)\n",
    "y_validate = validate.churn\n",
    "\n",
    "X_test = test.drop(columns=cols_to_drop)\n",
    "y_test = test.churn"
   ]
  },
  {
   "cell_type": "code",
   "execution_count": 11,
   "id": "a2f8fe1d",
   "metadata": {},
   "outputs": [],
   "source": [
    "from sklearn.linear_model import LogisticRegression\n",
    "from sklearn.metrics import classification_report\n",
    "from sklearn.metrics import confusion_matrix"
   ]
  },
  {
   "cell_type": "code",
   "execution_count": 12,
   "id": "d6b8f49c",
   "metadata": {},
   "outputs": [],
   "source": [
    "# from sklearn.linear_model import LogisticRegression\n",
    "logit = LogisticRegression(C=1, random_state=123, intercept_scaling=1, solver='saga')"
   ]
  },
  {
   "cell_type": "code",
   "execution_count": 13,
   "id": "a463e222",
   "metadata": {},
   "outputs": [
    {
     "data": {
      "text/plain": [
       "LogisticRegression(C=1, random_state=123, solver='saga')"
      ]
     },
     "execution_count": 13,
     "metadata": {},
     "output_type": "execute_result"
    }
   ],
   "source": [
    "logit.fit(X_train, y_train)"
   ]
  },
  {
   "cell_type": "code",
   "execution_count": 14,
   "id": "ce568acd",
   "metadata": {},
   "outputs": [
    {
     "name": "stdout",
     "output_type": "stream",
     "text": [
      "Accuracy of Logistic Regression classifier on training set: 0.80\n"
     ]
    }
   ],
   "source": [
    "print('Accuracy of Logistic Regression classifier on training set: {:.2f}'\n",
    "     .format(logit.score(X_train, y_train)))"
   ]
  },
  {
   "cell_type": "code",
   "execution_count": 15,
   "id": "5945558c",
   "metadata": {},
   "outputs": [],
   "source": [
    "y_pred = logit.predict(X_train)"
   ]
  },
  {
   "cell_type": "code",
   "execution_count": 16,
   "id": "adf7e86e",
   "metadata": {},
   "outputs": [
    {
     "name": "stdout",
     "output_type": "stream",
     "text": [
      "              precision    recall  f1-score   support\n",
      "\n",
      "          No       0.84      0.90      0.87      2897\n",
      "         Yes       0.64      0.52      0.58      1046\n",
      "\n",
      "    accuracy                           0.80      3943\n",
      "   macro avg       0.74      0.71      0.72      3943\n",
      "weighted avg       0.79      0.80      0.79      3943\n",
      "\n"
     ]
    }
   ],
   "source": [
    "print(classification_report(y_train, y_pred))"
   ]
  },
  {
   "cell_type": "markdown",
   "id": "2e80ddb4",
   "metadata": {},
   "source": [
    "### Our model's classification report:\n",
    "              precision    recall  f1-score   support\n",
    "\n",
    "          No       0.84      0.90      0.87      2897\n",
    "         Yes       0.64      0.52      0.58      1046\n",
    "\n",
    "    accuracy                           0.80      3943"
   ]
  },
  {
   "cell_type": "code",
   "execution_count": 17,
   "id": "3516da77",
   "metadata": {},
   "outputs": [
    {
     "name": "stdout",
     "output_type": "stream",
     "text": [
      "Accuracy of random forest classifier on validate set: 0.80\n"
     ]
    }
   ],
   "source": [
    "print('Accuracy of random forest classifier on validate set: {:.2f}'\n",
    "     .format(logit.score(X_validate, y_validate)))"
   ]
  },
  {
   "cell_type": "code",
   "execution_count": 18,
   "id": "10a4a516",
   "metadata": {},
   "outputs": [
    {
     "name": "stdout",
     "output_type": "stream",
     "text": [
      "Accuracy of random forest classifier on test set: 0.80\n"
     ]
    }
   ],
   "source": [
    "print('Accuracy of random forest classifier on test set: {:.2f}'\n",
    "     .format(logit.score(X_test, y_test)))"
   ]
  },
  {
   "cell_type": "markdown",
   "id": "a44f311f",
   "metadata": {},
   "source": [
    "# Models\n",
    "### Tested a variety of models (Decision Tree, Random Tree, KNN, and Logistic Regression.\n",
    "### Only Logistic Regression model performed well on the validation sets compared to the train sets\n",
    "\n",
    "## Logistic Model Accuracy steady at 80% on Validate & Test sets (7% above baseline)"
   ]
  },
  {
   "cell_type": "markdown",
   "id": "522cda29",
   "metadata": {},
   "source": [
    "# Conclusion\n",
    "\n",
    "### Hypotheses Answer\n",
    "- None of the items are independent, however internet subscription status is far less notable compared to contract, payment method, and partner status.\n",
    "\n",
    "### Key Findings\n",
    "- Payment type is a significant driver of churn\n",
    "\n",
    "### Recommendations\n",
    "- Automatic payments should be incentivized to reduce churn\n",
    "\n",
    "### Takeaways\n",
    "- Further explore extent to which automatic payment can be used to reduce churn\n",
    "- Explore extent to which we can further incentivize contracts"
   ]
  },
  {
   "cell_type": "code",
   "execution_count": null,
   "id": "4544579f",
   "metadata": {},
   "outputs": [],
   "source": []
  }
 ],
 "metadata": {
  "kernelspec": {
   "display_name": "Python 3",
   "language": "python",
   "name": "python3"
  },
  "language_info": {
   "codemirror_mode": {
    "name": "ipython",
    "version": 3
   },
   "file_extension": ".py",
   "mimetype": "text/x-python",
   "name": "python",
   "nbconvert_exporter": "python",
   "pygments_lexer": "ipython3",
   "version": "3.8.8"
  }
 },
 "nbformat": 4,
 "nbformat_minor": 5
}
