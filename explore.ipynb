{
 "cells": [
  {
   "cell_type": "code",
   "execution_count": 1,
   "id": "920117b2",
   "metadata": {},
   "outputs": [],
   "source": [
    "# ignore warnings\n",
    "import warnings\n",
    "warnings.filterwarnings(\"ignore\")\n",
    "\n",
    "import pandas as pd\n",
    "import numpy as np\n",
    "import os\n",
    "import matplotlib.pyplot as plt\n",
    "import seaborn as sns\n",
    "from scipy import stats\n",
    "from sklearn.model_selection import train_test_split\n",
    "from env import host, user, password\n",
    "\n",
    "import wrangle"
   ]
  },
  {
   "cell_type": "code",
   "execution_count": 2,
   "id": "862ec20d",
   "metadata": {},
   "outputs": [],
   "source": [
    "# import raw telco data\n",
    "raw_telco = wrangle.new_telco_data()"
   ]
  },
  {
   "cell_type": "code",
   "execution_count": 3,
   "id": "04adaab5",
   "metadata": {},
   "outputs": [
    {
     "name": "stdout",
     "output_type": "stream",
     "text": [
      "<class 'pandas.core.frame.DataFrame'>\n",
      "RangeIndex: 7043 entries, 0 to 7042\n",
      "Data columns (total 24 columns):\n",
      " #   Column                    Non-Null Count  Dtype  \n",
      "---  ------                    --------------  -----  \n",
      " 0   payment_type_id           7043 non-null   int64  \n",
      " 1   internet_service_type_id  7043 non-null   int64  \n",
      " 2   contract_type_id          7043 non-null   int64  \n",
      " 3   customer_id               7043 non-null   object \n",
      " 4   gender                    7043 non-null   object \n",
      " 5   senior_citizen            7043 non-null   int64  \n",
      " 6   partner                   7043 non-null   object \n",
      " 7   dependents                7043 non-null   object \n",
      " 8   tenure                    7043 non-null   int64  \n",
      " 9   phone_service             7043 non-null   object \n",
      " 10  multiple_lines            7043 non-null   object \n",
      " 11  online_security           7043 non-null   object \n",
      " 12  online_backup             7043 non-null   object \n",
      " 13  device_protection         7043 non-null   object \n",
      " 14  tech_support              7043 non-null   object \n",
      " 15  streaming_tv              7043 non-null   object \n",
      " 16  streaming_movies          7043 non-null   object \n",
      " 17  paperless_billing         7043 non-null   object \n",
      " 18  monthly_charges           7043 non-null   float64\n",
      " 19  total_charges             7043 non-null   object \n",
      " 20  churn                     7043 non-null   object \n",
      " 21  contract_type             7043 non-null   object \n",
      " 22  internet_service_type     7043 non-null   object \n",
      " 23  payment_type              7043 non-null   object \n",
      "dtypes: float64(1), int64(5), object(18)\n",
      "memory usage: 1.3+ MB\n"
     ]
    }
   ],
   "source": [
    "# Begin exploring\n",
    "raw_telco.info()"
   ]
  },
  {
   "cell_type": "code",
   "execution_count": 4,
   "id": "0558ce3d",
   "metadata": {},
   "outputs": [
    {
     "data": {
      "text/plain": [
       "1    3875\n",
       "3    1695\n",
       "2    1473\n",
       "Name: contract_type_id, dtype: int64"
      ]
     },
     "execution_count": 4,
     "metadata": {},
     "output_type": "execute_result"
    }
   ],
   "source": [
    "raw_telco.contract_type_id.value_counts()"
   ]
  },
  {
   "cell_type": "code",
   "execution_count": 5,
   "id": "7a249584",
   "metadata": {},
   "outputs": [
    {
     "name": "stdout",
     "output_type": "stream",
     "text": [
      "0320-JDNQG    1\n",
      "4512-ZUIYL    1\n",
      "8515-OCTJS    1\n",
      "2302-OUZXB    1\n",
      "6171-ZTVYB    1\n",
      "             ..\n",
      "6243-OZGFH    1\n",
      "9300-RENDD    1\n",
      "4081-DYXAV    1\n",
      "1492-QGCLU    1\n",
      "4652-ODEVH    1\n",
      "Name: customer_id, Length: 7043, dtype: int64\n",
      "0320-JDNQG    0.000142\n",
      "4512-ZUIYL    0.000142\n",
      "8515-OCTJS    0.000142\n",
      "2302-OUZXB    0.000142\n",
      "6171-ZTVYB    0.000142\n",
      "                ...   \n",
      "6243-OZGFH    0.000142\n",
      "9300-RENDD    0.000142\n",
      "4081-DYXAV    0.000142\n",
      "1492-QGCLU    0.000142\n",
      "4652-ODEVH    0.000142\n",
      "Name: customer_id, Length: 7043, dtype: float64\n",
      "----------------------\n",
      "Male      3555\n",
      "Female    3488\n",
      "Name: gender, dtype: int64\n",
      "Male      0.504756\n",
      "Female    0.495244\n",
      "Name: gender, dtype: float64\n",
      "----------------------\n",
      "No     3641\n",
      "Yes    3402\n",
      "Name: partner, dtype: int64\n",
      "No     0.516967\n",
      "Yes    0.483033\n",
      "Name: partner, dtype: float64\n",
      "----------------------\n",
      "No     4933\n",
      "Yes    2110\n",
      "Name: dependents, dtype: int64\n",
      "No     0.700412\n",
      "Yes    0.299588\n",
      "Name: dependents, dtype: float64\n",
      "----------------------\n",
      "Yes    6361\n",
      "No      682\n",
      "Name: phone_service, dtype: int64\n",
      "Yes    0.903166\n",
      "No     0.096834\n",
      "Name: phone_service, dtype: float64\n",
      "----------------------\n",
      "No                  3390\n",
      "Yes                 2971\n",
      "No phone service     682\n",
      "Name: multiple_lines, dtype: int64\n",
      "No                  0.481329\n",
      "Yes                 0.421837\n",
      "No phone service    0.096834\n",
      "Name: multiple_lines, dtype: float64\n",
      "----------------------\n",
      "No                     3498\n",
      "Yes                    2019\n",
      "No internet service    1526\n",
      "Name: online_security, dtype: int64\n",
      "No                     0.496663\n",
      "Yes                    0.286668\n",
      "No internet service    0.216669\n",
      "Name: online_security, dtype: float64\n",
      "----------------------\n",
      "No                     3088\n",
      "Yes                    2429\n",
      "No internet service    1526\n",
      "Name: online_backup, dtype: int64\n",
      "No                     0.438450\n",
      "Yes                    0.344881\n",
      "No internet service    0.216669\n",
      "Name: online_backup, dtype: float64\n",
      "----------------------\n",
      "No                     3095\n",
      "Yes                    2422\n",
      "No internet service    1526\n",
      "Name: device_protection, dtype: int64\n",
      "No                     0.439443\n",
      "Yes                    0.343888\n",
      "No internet service    0.216669\n",
      "Name: device_protection, dtype: float64\n",
      "----------------------\n",
      "No                     3473\n",
      "Yes                    2044\n",
      "No internet service    1526\n",
      "Name: tech_support, dtype: int64\n",
      "No                     0.493114\n",
      "Yes                    0.290217\n",
      "No internet service    0.216669\n",
      "Name: tech_support, dtype: float64\n",
      "----------------------\n",
      "No                     2810\n",
      "Yes                    2707\n",
      "No internet service    1526\n",
      "Name: streaming_tv, dtype: int64\n",
      "No                     0.398978\n",
      "Yes                    0.384353\n",
      "No internet service    0.216669\n",
      "Name: streaming_tv, dtype: float64\n",
      "----------------------\n",
      "No                     2785\n",
      "Yes                    2732\n",
      "No internet service    1526\n",
      "Name: streaming_movies, dtype: int64\n",
      "No                     0.395428\n",
      "Yes                    0.387903\n",
      "No internet service    0.216669\n",
      "Name: streaming_movies, dtype: float64\n",
      "----------------------\n",
      "Yes    4171\n",
      "No     2872\n",
      "Name: paperless_billing, dtype: int64\n",
      "Yes    0.592219\n",
      "No     0.407781\n",
      "Name: paperless_billing, dtype: float64\n",
      "----------------------\n",
      "           11\n",
      "20.2       11\n",
      "19.75       9\n",
      "19.9        8\n",
      "19.65       8\n",
      "           ..\n",
      "2807.65     1\n",
      "1078.75     1\n",
      "2879.9      1\n",
      "7624.2      1\n",
      "2898.95     1\n",
      "Name: total_charges, Length: 6531, dtype: int64\n",
      "           0.001562\n",
      "20.2       0.001562\n",
      "19.75      0.001278\n",
      "19.9       0.001136\n",
      "19.65      0.001136\n",
      "             ...   \n",
      "2807.65    0.000142\n",
      "1078.75    0.000142\n",
      "2879.9     0.000142\n",
      "7624.2     0.000142\n",
      "2898.95    0.000142\n",
      "Name: total_charges, Length: 6531, dtype: float64\n",
      "----------------------\n",
      "No     5174\n",
      "Yes    1869\n",
      "Name: churn, dtype: int64\n",
      "No     0.73463\n",
      "Yes    0.26537\n",
      "Name: churn, dtype: float64\n",
      "----------------------\n",
      "Month-to-month    3875\n",
      "Two year          1695\n",
      "One year          1473\n",
      "Name: contract_type, dtype: int64\n",
      "Month-to-month    0.550192\n",
      "Two year          0.240664\n",
      "One year          0.209144\n",
      "Name: contract_type, dtype: float64\n",
      "----------------------\n",
      "Fiber optic    3096\n",
      "DSL            2421\n",
      "None           1526\n",
      "Name: internet_service_type, dtype: int64\n",
      "Fiber optic    0.439585\n",
      "DSL            0.343746\n",
      "None           0.216669\n",
      "Name: internet_service_type, dtype: float64\n",
      "----------------------\n",
      "Electronic check             2365\n",
      "Mailed check                 1612\n",
      "Bank transfer (automatic)    1544\n",
      "Credit card (automatic)      1522\n",
      "Name: payment_type, dtype: int64\n",
      "Electronic check             0.335794\n",
      "Mailed check                 0.228880\n",
      "Bank transfer (automatic)    0.219225\n",
      "Credit card (automatic)      0.216101\n",
      "Name: payment_type, dtype: float64\n",
      "----------------------\n"
     ]
    }
   ],
   "source": [
    "# Use .describe with object columns.\n",
    "\n",
    "obj_cols = raw_telco.columns[[raw_telco[col].dtype == 'O' for col in raw_telco.columns]]\n",
    "for col in obj_cols:\n",
    "    print(raw_telco[col].value_counts())\n",
    "    print(raw_telco[col].value_counts(normalize=True, dropna=False))\n",
    "    print('----------------------')"
   ]
  },
  {
   "cell_type": "code",
   "execution_count": 6,
   "id": "682e188a",
   "metadata": {},
   "outputs": [
    {
     "name": "stdout",
     "output_type": "stream",
     "text": [
      "count           7043\n",
      "unique          7043\n",
      "top       0320-JDNQG\n",
      "freq               1\n",
      "Name: customer_id, dtype: object\n",
      "----------------------\n",
      "count     7043\n",
      "unique       2\n",
      "top       Male\n",
      "freq      3555\n",
      "Name: gender, dtype: object\n",
      "----------------------\n",
      "count     7043\n",
      "unique       2\n",
      "top         No\n",
      "freq      3641\n",
      "Name: partner, dtype: object\n",
      "----------------------\n",
      "count     7043\n",
      "unique       2\n",
      "top         No\n",
      "freq      4933\n",
      "Name: dependents, dtype: object\n",
      "----------------------\n",
      "count     7043\n",
      "unique       2\n",
      "top        Yes\n",
      "freq      6361\n",
      "Name: phone_service, dtype: object\n",
      "----------------------\n",
      "count     7043\n",
      "unique       3\n",
      "top         No\n",
      "freq      3390\n",
      "Name: multiple_lines, dtype: object\n",
      "----------------------\n",
      "count     7043\n",
      "unique       3\n",
      "top         No\n",
      "freq      3498\n",
      "Name: online_security, dtype: object\n",
      "----------------------\n",
      "count     7043\n",
      "unique       3\n",
      "top         No\n",
      "freq      3088\n",
      "Name: online_backup, dtype: object\n",
      "----------------------\n",
      "count     7043\n",
      "unique       3\n",
      "top         No\n",
      "freq      3095\n",
      "Name: device_protection, dtype: object\n",
      "----------------------\n",
      "count     7043\n",
      "unique       3\n",
      "top         No\n",
      "freq      3473\n",
      "Name: tech_support, dtype: object\n",
      "----------------------\n",
      "count     7043\n",
      "unique       3\n",
      "top         No\n",
      "freq      2810\n",
      "Name: streaming_tv, dtype: object\n",
      "----------------------\n",
      "count     7043\n",
      "unique       3\n",
      "top         No\n",
      "freq      2785\n",
      "Name: streaming_movies, dtype: object\n",
      "----------------------\n",
      "count     7043\n",
      "unique       2\n",
      "top        Yes\n",
      "freq      4171\n",
      "Name: paperless_billing, dtype: object\n",
      "----------------------\n",
      "count     7043\n",
      "unique    6531\n",
      "top           \n",
      "freq        11\n",
      "Name: total_charges, dtype: object\n",
      "----------------------\n",
      "count     7043\n",
      "unique       2\n",
      "top         No\n",
      "freq      5174\n",
      "Name: churn, dtype: object\n",
      "----------------------\n",
      "count               7043\n",
      "unique                 3\n",
      "top       Month-to-month\n",
      "freq                3875\n",
      "Name: contract_type, dtype: object\n",
      "----------------------\n",
      "count            7043\n",
      "unique              3\n",
      "top       Fiber optic\n",
      "freq             3096\n",
      "Name: internet_service_type, dtype: object\n",
      "----------------------\n",
      "count                 7043\n",
      "unique                   4\n",
      "top       Electronic check\n",
      "freq                  2365\n",
      "Name: payment_type, dtype: object\n",
      "----------------------\n"
     ]
    }
   ],
   "source": [
    "obj_cols = raw_telco.columns[[raw_telco[col].dtype == 'O' for col in raw_telco.columns]]\n",
    "for col in obj_cols:\n",
    "    print(raw_telco[col].describe())\n",
    "    print('----------------------')"
   ]
  },
  {
   "cell_type": "code",
   "execution_count": 7,
   "id": "0edb3dfb",
   "metadata": {},
   "outputs": [
    {
     "data": {
      "text/plain": [
       "1    3875\n",
       "3    1695\n",
       "2    1473\n",
       "Name: contract_type_id, dtype: int64"
      ]
     },
     "execution_count": 7,
     "metadata": {},
     "output_type": "execute_result"
    }
   ],
   "source": [
    "#Look at contract type value counts\n",
    "\n",
    "raw_telco.contract_type_id.value_counts()"
   ]
  },
  {
   "cell_type": "code",
   "execution_count": 8,
   "id": "af78fdd0",
   "metadata": {},
   "outputs": [
    {
     "data": {
      "text/html": [
       "<div>\n",
       "<style scoped>\n",
       "    .dataframe tbody tr th:only-of-type {\n",
       "        vertical-align: middle;\n",
       "    }\n",
       "\n",
       "    .dataframe tbody tr th {\n",
       "        vertical-align: top;\n",
       "    }\n",
       "\n",
       "    .dataframe thead th {\n",
       "        text-align: right;\n",
       "    }\n",
       "</style>\n",
       "<table border=\"1\" class=\"dataframe\">\n",
       "  <thead>\n",
       "    <tr style=\"text-align: right;\">\n",
       "      <th>contract_type</th>\n",
       "      <th>Month-to-month</th>\n",
       "      <th>One year</th>\n",
       "      <th>Two year</th>\n",
       "      <th>All</th>\n",
       "    </tr>\n",
       "    <tr>\n",
       "      <th>contract_type_id</th>\n",
       "      <th></th>\n",
       "      <th></th>\n",
       "      <th></th>\n",
       "      <th></th>\n",
       "    </tr>\n",
       "  </thead>\n",
       "  <tbody>\n",
       "    <tr>\n",
       "      <th>1</th>\n",
       "      <td>3875</td>\n",
       "      <td>0</td>\n",
       "      <td>0</td>\n",
       "      <td>3875</td>\n",
       "    </tr>\n",
       "    <tr>\n",
       "      <th>2</th>\n",
       "      <td>0</td>\n",
       "      <td>1473</td>\n",
       "      <td>0</td>\n",
       "      <td>1473</td>\n",
       "    </tr>\n",
       "    <tr>\n",
       "      <th>3</th>\n",
       "      <td>0</td>\n",
       "      <td>0</td>\n",
       "      <td>1695</td>\n",
       "      <td>1695</td>\n",
       "    </tr>\n",
       "    <tr>\n",
       "      <th>All</th>\n",
       "      <td>3875</td>\n",
       "      <td>1473</td>\n",
       "      <td>1695</td>\n",
       "      <td>7043</td>\n",
       "    </tr>\n",
       "  </tbody>\n",
       "</table>\n",
       "</div>"
      ],
      "text/plain": [
       "contract_type     Month-to-month  One year  Two year   All\n",
       "contract_type_id                                          \n",
       "1                           3875         0         0  3875\n",
       "2                              0      1473         0  1473\n",
       "3                              0         0      1695  1695\n",
       "All                         3875      1473      1695  7043"
      ]
     },
     "execution_count": 8,
     "metadata": {},
     "output_type": "execute_result"
    }
   ],
   "source": [
    "# Confirm no overlap with contract type id and contract type\n",
    "\n",
    "pd.crosstab(raw_telco.contract_type_id, raw_telco.contract_type, margins=True)"
   ]
  },
  {
   "cell_type": "code",
   "execution_count": 9,
   "id": "713c1bd3",
   "metadata": {},
   "outputs": [
    {
     "data": {
      "text/html": [
       "<div>\n",
       "<style scoped>\n",
       "    .dataframe tbody tr th:only-of-type {\n",
       "        vertical-align: middle;\n",
       "    }\n",
       "\n",
       "    .dataframe tbody tr th {\n",
       "        vertical-align: top;\n",
       "    }\n",
       "\n",
       "    .dataframe thead th {\n",
       "        text-align: right;\n",
       "    }\n",
       "</style>\n",
       "<table border=\"1\" class=\"dataframe\">\n",
       "  <thead>\n",
       "    <tr style=\"text-align: right;\">\n",
       "      <th>internet_service_type</th>\n",
       "      <th>DSL</th>\n",
       "      <th>Fiber optic</th>\n",
       "      <th>None</th>\n",
       "      <th>All</th>\n",
       "    </tr>\n",
       "    <tr>\n",
       "      <th>internet_service_type_id</th>\n",
       "      <th></th>\n",
       "      <th></th>\n",
       "      <th></th>\n",
       "      <th></th>\n",
       "    </tr>\n",
       "  </thead>\n",
       "  <tbody>\n",
       "    <tr>\n",
       "      <th>1</th>\n",
       "      <td>2421</td>\n",
       "      <td>0</td>\n",
       "      <td>0</td>\n",
       "      <td>2421</td>\n",
       "    </tr>\n",
       "    <tr>\n",
       "      <th>2</th>\n",
       "      <td>0</td>\n",
       "      <td>3096</td>\n",
       "      <td>0</td>\n",
       "      <td>3096</td>\n",
       "    </tr>\n",
       "    <tr>\n",
       "      <th>3</th>\n",
       "      <td>0</td>\n",
       "      <td>0</td>\n",
       "      <td>1526</td>\n",
       "      <td>1526</td>\n",
       "    </tr>\n",
       "    <tr>\n",
       "      <th>All</th>\n",
       "      <td>2421</td>\n",
       "      <td>3096</td>\n",
       "      <td>1526</td>\n",
       "      <td>7043</td>\n",
       "    </tr>\n",
       "  </tbody>\n",
       "</table>\n",
       "</div>"
      ],
      "text/plain": [
       "internet_service_type      DSL  Fiber optic  None   All\n",
       "internet_service_type_id                               \n",
       "1                         2421            0     0  2421\n",
       "2                            0         3096     0  3096\n",
       "3                            0            0  1526  1526\n",
       "All                       2421         3096  1526  7043"
      ]
     },
     "execution_count": 9,
     "metadata": {},
     "output_type": "execute_result"
    }
   ],
   "source": [
    "# Confrim no overlap with internet type id and internet type\n",
    "\n",
    "pd.crosstab(raw_telco.internet_service_type_id, raw_telco.internet_service_type, margins=True)"
   ]
  },
  {
   "cell_type": "code",
   "execution_count": 10,
   "id": "b8636c8a",
   "metadata": {},
   "outputs": [
    {
     "data": {
      "text/html": [
       "<div>\n",
       "<style scoped>\n",
       "    .dataframe tbody tr th:only-of-type {\n",
       "        vertical-align: middle;\n",
       "    }\n",
       "\n",
       "    .dataframe tbody tr th {\n",
       "        vertical-align: top;\n",
       "    }\n",
       "\n",
       "    .dataframe thead th {\n",
       "        text-align: right;\n",
       "    }\n",
       "</style>\n",
       "<table border=\"1\" class=\"dataframe\">\n",
       "  <thead>\n",
       "    <tr style=\"text-align: right;\">\n",
       "      <th>payment_type</th>\n",
       "      <th>Bank transfer (automatic)</th>\n",
       "      <th>Credit card (automatic)</th>\n",
       "      <th>Electronic check</th>\n",
       "      <th>Mailed check</th>\n",
       "      <th>All</th>\n",
       "    </tr>\n",
       "    <tr>\n",
       "      <th>payment_type_id</th>\n",
       "      <th></th>\n",
       "      <th></th>\n",
       "      <th></th>\n",
       "      <th></th>\n",
       "      <th></th>\n",
       "    </tr>\n",
       "  </thead>\n",
       "  <tbody>\n",
       "    <tr>\n",
       "      <th>1</th>\n",
       "      <td>0</td>\n",
       "      <td>0</td>\n",
       "      <td>2365</td>\n",
       "      <td>0</td>\n",
       "      <td>2365</td>\n",
       "    </tr>\n",
       "    <tr>\n",
       "      <th>2</th>\n",
       "      <td>0</td>\n",
       "      <td>0</td>\n",
       "      <td>0</td>\n",
       "      <td>1612</td>\n",
       "      <td>1612</td>\n",
       "    </tr>\n",
       "    <tr>\n",
       "      <th>3</th>\n",
       "      <td>1544</td>\n",
       "      <td>0</td>\n",
       "      <td>0</td>\n",
       "      <td>0</td>\n",
       "      <td>1544</td>\n",
       "    </tr>\n",
       "    <tr>\n",
       "      <th>4</th>\n",
       "      <td>0</td>\n",
       "      <td>1522</td>\n",
       "      <td>0</td>\n",
       "      <td>0</td>\n",
       "      <td>1522</td>\n",
       "    </tr>\n",
       "    <tr>\n",
       "      <th>All</th>\n",
       "      <td>1544</td>\n",
       "      <td>1522</td>\n",
       "      <td>2365</td>\n",
       "      <td>1612</td>\n",
       "      <td>7043</td>\n",
       "    </tr>\n",
       "  </tbody>\n",
       "</table>\n",
       "</div>"
      ],
      "text/plain": [
       "payment_type     Bank transfer (automatic)  Credit card (automatic)  \\\n",
       "payment_type_id                                                       \n",
       "1                                        0                        0   \n",
       "2                                        0                        0   \n",
       "3                                     1544                        0   \n",
       "4                                        0                     1522   \n",
       "All                                   1544                     1522   \n",
       "\n",
       "payment_type     Electronic check  Mailed check   All  \n",
       "payment_type_id                                        \n",
       "1                            2365             0  2365  \n",
       "2                               0          1612  1612  \n",
       "3                               0             0  1544  \n",
       "4                               0             0  1522  \n",
       "All                          2365          1612  7043  "
      ]
     },
     "execution_count": 10,
     "metadata": {},
     "output_type": "execute_result"
    }
   ],
   "source": [
    "# Confirm no overlap with payment type and ID\n",
    "\n",
    "pd.crosstab(raw_telco.payment_type_id, raw_telco.payment_type, margins=True)"
   ]
  },
  {
   "cell_type": "code",
   "execution_count": 11,
   "id": "d9edf775",
   "metadata": {},
   "outputs": [
    {
     "data": {
      "text/plain": [
       "payment_type_id             0.0\n",
       "internet_service_type_id    0.0\n",
       "contract_type_id            0.0\n",
       "customer_id                 0.0\n",
       "gender                      0.0\n",
       "senior_citizen              0.0\n",
       "partner                     0.0\n",
       "dependents                  0.0\n",
       "tenure                      0.0\n",
       "phone_service               0.0\n",
       "multiple_lines              0.0\n",
       "online_security             0.0\n",
       "online_backup               0.0\n",
       "device_protection           0.0\n",
       "tech_support                0.0\n",
       "streaming_tv                0.0\n",
       "streaming_movies            0.0\n",
       "paperless_billing           0.0\n",
       "monthly_charges             0.0\n",
       "total_charges               0.0\n",
       "churn                       0.0\n",
       "contract_type               0.0\n",
       "internet_service_type       0.0\n",
       "payment_type                0.0\n",
       "dtype: float64"
      ]
     },
     "execution_count": 11,
     "metadata": {},
     "output_type": "execute_result"
    }
   ],
   "source": [
    "# Confirm no nulls\n",
    "raw_telco.isna().mean()"
   ]
  },
  {
   "cell_type": "code",
   "execution_count": 12,
   "id": "54a12365",
   "metadata": {},
   "outputs": [
    {
     "data": {
      "text/html": [
       "<div>\n",
       "<style scoped>\n",
       "    .dataframe tbody tr th:only-of-type {\n",
       "        vertical-align: middle;\n",
       "    }\n",
       "\n",
       "    .dataframe tbody tr th {\n",
       "        vertical-align: top;\n",
       "    }\n",
       "\n",
       "    .dataframe thead th {\n",
       "        text-align: right;\n",
       "    }\n",
       "</style>\n",
       "<table border=\"1\" class=\"dataframe\">\n",
       "  <thead>\n",
       "    <tr style=\"text-align: right;\">\n",
       "      <th>col_0</th>\n",
       "      <th>32.371149</th>\n",
       "    </tr>\n",
       "    <tr>\n",
       "      <th>payment_type</th>\n",
       "      <th></th>\n",
       "    </tr>\n",
       "  </thead>\n",
       "  <tbody>\n",
       "    <tr>\n",
       "      <th>Bank transfer (automatic)</th>\n",
       "      <td>1544</td>\n",
       "    </tr>\n",
       "    <tr>\n",
       "      <th>Credit card (automatic)</th>\n",
       "      <td>1522</td>\n",
       "    </tr>\n",
       "    <tr>\n",
       "      <th>Electronic check</th>\n",
       "      <td>2365</td>\n",
       "    </tr>\n",
       "    <tr>\n",
       "      <th>Mailed check</th>\n",
       "      <td>1612</td>\n",
       "    </tr>\n",
       "  </tbody>\n",
       "</table>\n",
       "</div>"
      ],
      "text/plain": [
       "col_0                      32.371149\n",
       "payment_type                        \n",
       "Bank transfer (automatic)       1544\n",
       "Credit card (automatic)         1522\n",
       "Electronic check                2365\n",
       "Mailed check                    1612"
      ]
     },
     "execution_count": 12,
     "metadata": {},
     "output_type": "execute_result"
    }
   ],
   "source": [
    "# Explore differences in payment type tenure\n",
    "\n",
    "pd.crosstab(raw_telco.payment_type, raw_telco.tenure.mean())"
   ]
  },
  {
   "cell_type": "code",
   "execution_count": 13,
   "id": "c1445046",
   "metadata": {},
   "outputs": [
    {
     "data": {
      "text/html": [
       "<div>\n",
       "<style scoped>\n",
       "    .dataframe tbody tr th:only-of-type {\n",
       "        vertical-align: middle;\n",
       "    }\n",
       "\n",
       "    .dataframe tbody tr th {\n",
       "        vertical-align: top;\n",
       "    }\n",
       "\n",
       "    .dataframe thead th {\n",
       "        text-align: right;\n",
       "    }\n",
       "</style>\n",
       "<table border=\"1\" class=\"dataframe\">\n",
       "  <thead>\n",
       "    <tr style=\"text-align: right;\">\n",
       "      <th>col_0</th>\n",
       "      <th>32.371149</th>\n",
       "    </tr>\n",
       "    <tr>\n",
       "      <th>contract_type</th>\n",
       "      <th></th>\n",
       "    </tr>\n",
       "  </thead>\n",
       "  <tbody>\n",
       "    <tr>\n",
       "      <th>Month-to-month</th>\n",
       "      <td>3875</td>\n",
       "    </tr>\n",
       "    <tr>\n",
       "      <th>One year</th>\n",
       "      <td>1473</td>\n",
       "    </tr>\n",
       "    <tr>\n",
       "      <th>Two year</th>\n",
       "      <td>1695</td>\n",
       "    </tr>\n",
       "  </tbody>\n",
       "</table>\n",
       "</div>"
      ],
      "text/plain": [
       "col_0           32.371149\n",
       "contract_type            \n",
       "Month-to-month       3875\n",
       "One year             1473\n",
       "Two year             1695"
      ]
     },
     "execution_count": 13,
     "metadata": {},
     "output_type": "execute_result"
    }
   ],
   "source": [
    "# Explore differences in contract type tenure\n",
    "\n",
    "pd.crosstab(raw_telco.contract_type, raw_telco.tenure.mean())"
   ]
  },
  {
   "cell_type": "code",
   "execution_count": 14,
   "id": "254a321e",
   "metadata": {},
   "outputs": [
    {
     "data": {
      "image/png": "[encoded data removed]",
      "text/plain": [
       "<Figure size 432x288 with 1 Axes>"
      ]
     },
     "metadata": {
      "needs_background": "light"
     },
     "output_type": "display_data"
    }
   ],
   "source": [
    "plt.title(\"Tenure by Payment Type\")\n",
    "sns.barplot(x=\"payment_type\", y=\"tenure\", data=raw_telco)\n",
    "plt.show()"
   ]
  },
  {
   "cell_type": "code",
   "execution_count": 15,
   "id": "1382f2ec",
   "metadata": {},
   "outputs": [],
   "source": [
    "# Columns to drop: customer_id (can be added back later for predection), payment_type_id, \n",
    "# internet_service_type_id, contract_type_id, multiple_lines, online_security, online_backup, \n",
    "# device_protection, tech_support, streaming_tv, streaming_movies, paperless_billing\n",
    "\n",
    "# Pass to prepare function which will return our train, validate, test data sets\n",
    "\n",
    "wrangled_telco, train, validate, test = wrangle.clean_prep_telco(raw_telco)"
   ]
  },
  {
   "cell_type": "code",
   "execution_count": 16,
   "id": "bf091bca",
   "metadata": {},
   "outputs": [
    {
     "name": "stdout",
     "output_type": "stream",
     "text": [
      "<class 'pandas.core.frame.DataFrame'>\n",
      "RangeIndex: 7043 entries, 0 to 7042\n",
      "Data columns (total 13 columns):\n",
      " #   Column                       Non-Null Count  Dtype  \n",
      "---  ------                       --------------  -----  \n",
      " 0   senior_citizen               7043 non-null   int64  \n",
      " 1   partner                      7043 non-null   object \n",
      " 2   tenure                       7043 non-null   int64  \n",
      " 3   monthly_charges              7043 non-null   float64\n",
      " 4   total_charges                7043 non-null   object \n",
      " 5   churn                        7043 non-null   object \n",
      " 6   gender_Male                  7043 non-null   uint8  \n",
      " 7   dependents_Yes               7043 non-null   uint8  \n",
      " 8   phone_service_Yes            7043 non-null   uint8  \n",
      " 9   contract_type_no_contract    7043 non-null   uint8  \n",
      " 10  internet_service_type_Fiber  7043 non-null   uint8  \n",
      " 11  internet_service_type_None   7043 non-null   uint8  \n",
      " 12  payment_type_manual_payment  7043 non-null   uint8  \n",
      "dtypes: float64(1), int64(2), object(3), uint8(7)\n",
      "memory usage: 378.4+ KB\n"
     ]
    }
   ],
   "source": [
    "wrangled_telco.info()"
   ]
  },
  {
   "cell_type": "code",
   "execution_count": 17,
   "id": "498dcdee",
   "metadata": {},
   "outputs": [],
   "source": [
    "wrangled_telco[\"baseline_prediction\"] = \"No\""
   ]
  },
  {
   "cell_type": "code",
   "execution_count": 18,
   "id": "5290f99d",
   "metadata": {},
   "outputs": [
    {
     "name": "stdout",
     "output_type": "stream",
     "text": [
      "Baseline Accuracy (Predicts did not churn): 73.46%\n"
     ]
    }
   ],
   "source": [
    "baseline_accuracy = (wrangled_telco.baseline_prediction == wrangled_telco.churn).mean()\n",
    "print(f'Baseline Accuracy (Predicts did not churn): {baseline_accuracy:.2%}')"
   ]
  },
  {
   "cell_type": "code",
   "execution_count": 19,
   "id": "33bca6bd",
   "metadata": {},
   "outputs": [
    {
     "name": "stdout",
     "output_type": "stream",
     "text": [
      "(3943, 13)\n",
      "(1691, 13)\n",
      "(1409, 13)\n"
     ]
    }
   ],
   "source": [
    "print(train.shape)\n",
    "print(validate.shape)\n",
    "print(test.shape)"
   ]
  },
  {
   "cell_type": "code",
   "execution_count": 20,
   "id": "3d1e9274",
   "metadata": {},
   "outputs": [],
   "source": [
    "# Contracts impact length of tenure.\n",
    "# First start basic and verify mathematically that contract type is not independent of tenure\n",
    "# Null Hypothesis - Contract type is independent of Churn\n",
    "\n",
    "telco_contract_churn_observed = pd.crosstab(wrangled_telco.churn, wrangled_telco.contract_type_no_contract)"
   ]
  },
  {
   "cell_type": "code",
   "execution_count": 21,
   "id": "3f751178",
   "metadata": {},
   "outputs": [
    {
     "name": "stdout",
     "output_type": "stream",
     "text": [
      "Observed\n",
      "\n",
      "[[2954 2220]\n",
      " [ 214 1655]]\n",
      "---\n",
      "Expected\n",
      "\n",
      "[[2327.30824933 2846.69175067]\n",
      " [ 840.69175067 1028.30824933]]\n",
      "---\n",
      "\n",
      "chi^2 = 1153.9717\n",
      "p     = 0.0000\n"
     ]
    }
   ],
   "source": [
    "chi2, p, degf, expected = stats.chi2_contingency(telco_contract_churn_observed)\n",
    "\n",
    "print('Observed\\n')\n",
    "print(telco_contract_churn_observed.values)\n",
    "print('---\\nExpected\\n')\n",
    "print(expected)\n",
    "print('---\\n')\n",
    "print(f'chi^2 = {chi2:.4f}')\n",
    "print(f'p     = {p:.4f}')"
   ]
  },
  {
   "cell_type": "code",
   "execution_count": 22,
   "id": "279d514b",
   "metadata": {},
   "outputs": [
    {
     "data": {
      "image/png": "[encoded data removed]",
      "text/plain": [
       "<Figure size 432x288 with 1 Axes>"
      ]
     },
     "metadata": {
      "needs_background": "light"
     },
     "output_type": "display_data"
    }
   ],
   "source": [
    "# p value of 0.0000, we reject our null hypothesis that they are independent\n",
    "\n",
    "# Help visualize this by looking at average tenure length between contract types\n",
    "plt.title(\"Tenure by Contract Type\")\n",
    "sns.barplot(x=\"contract_type_no_contract\", y=\"tenure\", data=wrangled_telco)\n",
    "plt.show()"
   ]
  },
  {
   "cell_type": "code",
   "execution_count": 23,
   "id": "0edf1017",
   "metadata": {},
   "outputs": [
    {
     "data": {
      "text/html": [
       "<div>\n",
       "<style scoped>\n",
       "    .dataframe tbody tr th:only-of-type {\n",
       "        vertical-align: middle;\n",
       "    }\n",
       "\n",
       "    .dataframe tbody tr th {\n",
       "        vertical-align: top;\n",
       "    }\n",
       "\n",
       "    .dataframe thead th {\n",
       "        text-align: right;\n",
       "    }\n",
       "</style>\n",
       "<table border=\"1\" class=\"dataframe\">\n",
       "  <thead>\n",
       "    <tr style=\"text-align: right;\">\n",
       "      <th>partner</th>\n",
       "      <th>0</th>\n",
       "      <th>1</th>\n",
       "    </tr>\n",
       "    <tr>\n",
       "      <th>churn</th>\n",
       "      <th></th>\n",
       "      <th></th>\n",
       "    </tr>\n",
       "  </thead>\n",
       "  <tbody>\n",
       "    <tr>\n",
       "      <th>No</th>\n",
       "      <td>2441</td>\n",
       "      <td>2733</td>\n",
       "    </tr>\n",
       "    <tr>\n",
       "      <th>Yes</th>\n",
       "      <td>1200</td>\n",
       "      <td>669</td>\n",
       "    </tr>\n",
       "  </tbody>\n",
       "</table>\n",
       "</div>"
      ],
      "text/plain": [
       "partner     0     1\n",
       "churn              \n",
       "No       2441  2733\n",
       "Yes      1200   669"
      ]
     },
     "execution_count": 23,
     "metadata": {},
     "output_type": "execute_result"
    }
   ],
   "source": [
    "# Does partner status impact length of tenure.\n",
    "# Verify mathematically that whether or not customer has a partner is not independent of tenure\n",
    "# Null Hypothesis - Partner status is independent of Churn\n",
    "\n",
    "telco_partner_churn_observed = pd.crosstab(wrangled_telco.churn, wrangled_telco.partner)\n",
    "telco_partner_churn_observed"
   ]
  },
  {
   "cell_type": "code",
   "execution_count": 24,
   "id": "ab2a246c",
   "metadata": {},
   "outputs": [
    {
     "name": "stdout",
     "output_type": "stream",
     "text": [
      "Observed\n",
      "\n",
      "[[2441 2733]\n",
      " [1200  669]]\n",
      "---\n",
      "Expected\n",
      "\n",
      "[[2674.78830044 2499.21169956]\n",
      " [ 966.21169956  902.78830044]]\n",
      "---\n",
      "\n",
      "chi^2 = 158.7334\n",
      "p     = 0.0000\n"
     ]
    }
   ],
   "source": [
    "chi2, p, degf, expected = stats.chi2_contingency(telco_partner_churn_observed)\n",
    "\n",
    "print('Observed\\n')\n",
    "print(telco_partner_churn_observed.values)\n",
    "print('---\\nExpected\\n')\n",
    "print(expected)\n",
    "print('---\\n')\n",
    "print(f'chi^2 = {chi2:.4f}')\n",
    "print(f'p     = {p:.4f}')"
   ]
  },
  {
   "cell_type": "code",
   "execution_count": 25,
   "id": "2ba0659c",
   "metadata": {},
   "outputs": [
    {
     "data": {
      "image/png": "[encoded data removed]",
      "text/plain": [
       "<Figure size 432x288 with 1 Axes>"
      ]
     },
     "metadata": {
      "needs_background": "light"
     },
     "output_type": "display_data"
    }
   ],
   "source": [
    "# p value of 0.0000, we reject our null hypothesis that they are independent\n",
    "\n",
    "# Help visualize this by looking at average tenure length between partner status\n",
    "plt.title(\"Tenure by Partner Status\")\n",
    "sns.barplot(x=\"partner\", y=\"tenure\", data=wrangled_telco)\n",
    "plt.show()"
   ]
  },
  {
   "cell_type": "code",
   "execution_count": 26,
   "id": "225c9994",
   "metadata": {},
   "outputs": [
    {
     "data": {
      "text/html": [
       "<div>\n",
       "<style scoped>\n",
       "    .dataframe tbody tr th:only-of-type {\n",
       "        vertical-align: middle;\n",
       "    }\n",
       "\n",
       "    .dataframe tbody tr th {\n",
       "        vertical-align: top;\n",
       "    }\n",
       "\n",
       "    .dataframe thead th {\n",
       "        text-align: right;\n",
       "    }\n",
       "</style>\n",
       "<table border=\"1\" class=\"dataframe\">\n",
       "  <thead>\n",
       "    <tr style=\"text-align: right;\">\n",
       "      <th>payment_type_manual_payment</th>\n",
       "      <th>0</th>\n",
       "      <th>1</th>\n",
       "    </tr>\n",
       "    <tr>\n",
       "      <th>churn</th>\n",
       "      <th></th>\n",
       "      <th></th>\n",
       "    </tr>\n",
       "  </thead>\n",
       "  <tbody>\n",
       "    <tr>\n",
       "      <th>No</th>\n",
       "      <td>2576</td>\n",
       "      <td>2598</td>\n",
       "    </tr>\n",
       "    <tr>\n",
       "      <th>Yes</th>\n",
       "      <td>490</td>\n",
       "      <td>1379</td>\n",
       "    </tr>\n",
       "  </tbody>\n",
       "</table>\n",
       "</div>"
      ],
      "text/plain": [
       "payment_type_manual_payment     0     1\n",
       "churn                                  \n",
       "No                           2576  2598\n",
       "Yes                           490  1379"
      ]
     },
     "execution_count": 26,
     "metadata": {},
     "output_type": "execute_result"
    }
   ],
   "source": [
    "# Does payment type (manual vs. automatic) status impact length of tenure.\n",
    "# Verify mathematically that whether or not customer has a partner is not independent of tenure\n",
    "# Null Hypothesis - Payment type is independent of Churn\n",
    "\n",
    "telco_payment_churn_observed = pd.crosstab(wrangled_telco.churn, wrangled_telco.payment_type_manual_payment)\n",
    "telco_payment_churn_observed"
   ]
  },
  {
   "cell_type": "code",
   "execution_count": 27,
   "id": "23ff1829",
   "metadata": {},
   "outputs": [
    {
     "name": "stdout",
     "output_type": "stream",
     "text": [
      "Observed\n",
      "\n",
      "[[2576 2598]\n",
      " [ 490 1379]]\n",
      "---\n",
      "Expected\n",
      "\n",
      "[[2252.37597615 2921.62402385]\n",
      " [ 813.62402385 1055.37597615]]\n",
      "---\n",
      "\n",
      "chi^2 = 309.3486\n",
      "p     = 0.0000\n"
     ]
    }
   ],
   "source": [
    "chi2, p, degf, expected = stats.chi2_contingency(telco_payment_churn_observed)\n",
    "\n",
    "print('Observed\\n')\n",
    "print(telco_payment_churn_observed.values)\n",
    "print('---\\nExpected\\n')\n",
    "print(expected)\n",
    "print('---\\n')\n",
    "print(f'chi^2 = {chi2:.4f}')\n",
    "print(f'p     = {p:.4f}')"
   ]
  },
  {
   "cell_type": "code",
   "execution_count": 28,
   "id": "540eefc7",
   "metadata": {},
   "outputs": [
    {
     "data": {
      "image/png": "[encoded data removed]",
      "text/plain": [
       "<Figure size 432x288 with 1 Axes>"
      ]
     },
     "metadata": {
      "needs_background": "light"
     },
     "output_type": "display_data"
    }
   ],
   "source": [
    "# p value of 0.0000, we reject our null hypothesis that they are independent\n",
    "\n",
    "# Help visualize this by looking at average tenure length by payment type (automatic vs. manual)\n",
    "plt.title(\"Tenure by Payment Type\")\n",
    "sns.barplot(x=\"payment_type_manual_payment\", y=\"tenure\", data=wrangled_telco)\n",
    "plt.show()"
   ]
  },
  {
   "cell_type": "code",
   "execution_count": 29,
   "id": "d2da4e25",
   "metadata": {},
   "outputs": [
    {
     "data": {
      "text/html": [
       "<div>\n",
       "<style scoped>\n",
       "    .dataframe tbody tr th:only-of-type {\n",
       "        vertical-align: middle;\n",
       "    }\n",
       "\n",
       "    .dataframe tbody tr th {\n",
       "        vertical-align: top;\n",
       "    }\n",
       "\n",
       "    .dataframe thead th {\n",
       "        text-align: right;\n",
       "    }\n",
       "</style>\n",
       "<table border=\"1\" class=\"dataframe\">\n",
       "  <thead>\n",
       "    <tr style=\"text-align: right;\">\n",
       "      <th>internet_service_type_None</th>\n",
       "      <th>0</th>\n",
       "      <th>1</th>\n",
       "    </tr>\n",
       "    <tr>\n",
       "      <th>churn</th>\n",
       "      <th></th>\n",
       "      <th></th>\n",
       "    </tr>\n",
       "  </thead>\n",
       "  <tbody>\n",
       "    <tr>\n",
       "      <th>No</th>\n",
       "      <td>3761</td>\n",
       "      <td>1413</td>\n",
       "    </tr>\n",
       "    <tr>\n",
       "      <th>Yes</th>\n",
       "      <td>1756</td>\n",
       "      <td>113</td>\n",
       "    </tr>\n",
       "  </tbody>\n",
       "</table>\n",
       "</div>"
      ],
      "text/plain": [
       "internet_service_type_None     0     1\n",
       "churn                                 \n",
       "No                          3761  1413\n",
       "Yes                         1756   113"
      ]
     },
     "execution_count": 29,
     "metadata": {},
     "output_type": "execute_result"
    }
   ],
   "source": [
    "telco_internet_churn_observed = pd.crosstab(wrangled_telco.churn, wrangled_telco.internet_service_type_None)\n",
    "telco_internet_churn_observed"
   ]
  },
  {
   "cell_type": "code",
   "execution_count": 30,
   "id": "31d2a4b1",
   "metadata": {},
   "outputs": [
    {
     "name": "stdout",
     "output_type": "stream",
     "text": [
      "Observed\n",
      "\n",
      "[[3761 1413]\n",
      " [1756  113]]\n",
      "---\n",
      "Expected\n",
      "\n",
      "[[4052.95442283 1121.04557717]\n",
      " [1464.04557717  404.95442283]]\n",
      "---\n",
      "\n",
      "chi^2 = 364.5198\n",
      "p     = 0.0000\n"
     ]
    }
   ],
   "source": [
    "chi2, p, degf, expected = stats.chi2_contingency(telco_internet_churn_observed)\n",
    "\n",
    "print('Observed\\n')\n",
    "print(telco_internet_churn_observed.values)\n",
    "print('---\\nExpected\\n')\n",
    "print(expected)\n",
    "print('---\\n')\n",
    "print(f'chi^2 = {chi2:.4f}')\n",
    "print(f'p     = {p:.4f}')"
   ]
  },
  {
   "cell_type": "code",
   "execution_count": 31,
   "id": "35793abe",
   "metadata": {},
   "outputs": [
    {
     "data": {
      "image/png": "[encoded data removed]",
      "text/plain": [
       "<Figure size 432x288 with 1 Axes>"
      ]
     },
     "metadata": {
      "needs_background": "light"
     },
     "output_type": "display_data"
    }
   ],
   "source": [
    "# p value of 0.0000, we reject our null hypothesis that they are independent\n",
    "\n",
    "# Help visualize this by looking at average tenure length by whether or not they have internet service\n",
    "# Note that the difference between having internet service and not having internet service is not nearly as \n",
    "# drastic as with the other questions we asked.\n",
    "\n",
    "plt.title(\"Tenure by Payment Type\")\n",
    "sns.barplot(x=\"internet_service_type_None\", y=\"tenure\", data=wrangled_telco)\n",
    "plt.show()"
   ]
  },
  {
   "cell_type": "code",
   "execution_count": 32,
   "id": "11681488",
   "metadata": {},
   "outputs": [],
   "source": [
    "# cols_to_drop = ['churn', 'baseline_prediction', 'total_charges', 'monthly_charges', 'internet_service_type_Fiber optic', 'internet_service_type_None']\n",
    "\n",
    "cols_to_drop = ['churn', 'total_charges', 'monthly_charges']\n",
    "\n",
    "X_train = train.drop(columns=cols_to_drop)\n",
    "y_train = train.churn\n",
    "\n",
    "X_validate = validate.drop(columns=cols_to_drop)\n",
    "y_validate = validate.churn\n",
    "\n",
    "X_test = test.drop(columns=cols_to_drop)\n",
    "y_test = test.churn"
   ]
  },
  {
   "cell_type": "code",
   "execution_count": 33,
   "id": "0c328f56",
   "metadata": {},
   "outputs": [
    {
     "name": "stdout",
     "output_type": "stream",
     "text": [
      "<class 'pandas.core.frame.DataFrame'>\n",
      "Int64Index: 3943 entries, 5642 to 6840\n",
      "Data columns (total 10 columns):\n",
      " #   Column                       Non-Null Count  Dtype \n",
      "---  ------                       --------------  ----- \n",
      " 0   senior_citizen               3943 non-null   int64 \n",
      " 1   partner                      3943 non-null   object\n",
      " 2   tenure                       3943 non-null   int64 \n",
      " 3   gender_Male                  3943 non-null   uint8 \n",
      " 4   dependents_Yes               3943 non-null   uint8 \n",
      " 5   phone_service_Yes            3943 non-null   uint8 \n",
      " 6   contract_type_no_contract    3943 non-null   uint8 \n",
      " 7   internet_service_type_Fiber  3943 non-null   uint8 \n",
      " 8   internet_service_type_None   3943 non-null   uint8 \n",
      " 9   payment_type_manual_payment  3943 non-null   uint8 \n",
      "dtypes: int64(2), object(1), uint8(7)\n",
      "memory usage: 150.2+ KB\n"
     ]
    }
   ],
   "source": [
    "X_train.info()"
   ]
  },
  {
   "cell_type": "code",
   "execution_count": 34,
   "id": "baf901d2",
   "metadata": {},
   "outputs": [],
   "source": [
    "from sklearn.tree import DecisionTreeClassifier\n",
    "from sklearn.tree import export_graphviz\n",
    "from sklearn.metrics import classification_report\n",
    "from sklearn.metrics import confusion_matrix"
   ]
  },
  {
   "cell_type": "code",
   "execution_count": 35,
   "id": "e541cd15",
   "metadata": {},
   "outputs": [],
   "source": [
    "# for classification you can change the algorithm to gini or entropy (information gain).  \n",
    "# Default is gini.\n",
    "\n",
    "clf = DecisionTreeClassifier(max_depth=6, random_state=123)"
   ]
  },
  {
   "cell_type": "code",
   "execution_count": 36,
   "id": "6e91c6f0",
   "metadata": {},
   "outputs": [],
   "source": [
    "clf = clf.fit(X_train, y_train)"
   ]
  },
  {
   "cell_type": "code",
   "execution_count": 37,
   "id": "b1abafd3",
   "metadata": {},
   "outputs": [
    {
     "data": {
      "text/plain": [
       "'churn_decision_tree.pdf'"
      ]
     },
     "execution_count": 37,
     "metadata": {},
     "output_type": "execute_result"
    }
   ],
   "source": [
    "import graphviz\n",
    "from graphviz import Graph\n",
    "\n",
    "dot_data = export_graphviz(clf, feature_names= X_train.columns, class_names=clf.classes_, rounded=True, filled=True, out_file=None)\n",
    "graph = graphviz.Source(dot_data) \n",
    "\n",
    "graph.render('churn_decision_tree', view=True)"
   ]
  },
  {
   "cell_type": "code",
   "execution_count": 38,
   "id": "3b7df281",
   "metadata": {},
   "outputs": [
    {
     "name": "stdout",
     "output_type": "stream",
     "text": [
      "Accuracy of Decision Tree classifier on training set: 0.80\n"
     ]
    }
   ],
   "source": [
    "print('Accuracy of Decision Tree classifier on training set: {:.2f}'\n",
    "      .format(clf.score(X_train, y_train)))"
   ]
  },
  {
   "cell_type": "code",
   "execution_count": 39,
   "id": "530ba151",
   "metadata": {},
   "outputs": [
    {
     "data": {
      "text/plain": [
       "array(['No', 'No', 'Yes', 'No', 'No'], dtype=object)"
      ]
     },
     "execution_count": 39,
     "metadata": {},
     "output_type": "execute_result"
    }
   ],
   "source": [
    "y_pred = clf.predict(X_train)\n",
    "y_pred[0:5]"
   ]
  },
  {
   "cell_type": "code",
   "execution_count": 40,
   "id": "40dee421",
   "metadata": {},
   "outputs": [
    {
     "data": {
      "text/plain": [
       "array([[2574,  323],\n",
       "       [ 449,  597]])"
      ]
     },
     "execution_count": 40,
     "metadata": {},
     "output_type": "execute_result"
    }
   ],
   "source": [
    "confusion_matrix(y_train, y_pred)"
   ]
  },
  {
   "cell_type": "code",
   "execution_count": 41,
   "id": "54c947c2",
   "metadata": {},
   "outputs": [
    {
     "data": {
      "text/html": [
       "<div>\n",
       "<style scoped>\n",
       "    .dataframe tbody tr th:only-of-type {\n",
       "        vertical-align: middle;\n",
       "    }\n",
       "\n",
       "    .dataframe tbody tr th {\n",
       "        vertical-align: top;\n",
       "    }\n",
       "\n",
       "    .dataframe thead th {\n",
       "        text-align: right;\n",
       "    }\n",
       "</style>\n",
       "<table border=\"1\" class=\"dataframe\">\n",
       "  <thead>\n",
       "    <tr style=\"text-align: right;\">\n",
       "      <th></th>\n",
       "      <th>No</th>\n",
       "      <th>Yes</th>\n",
       "    </tr>\n",
       "  </thead>\n",
       "  <tbody>\n",
       "    <tr>\n",
       "      <th>No</th>\n",
       "      <td>2574</td>\n",
       "      <td>323</td>\n",
       "    </tr>\n",
       "    <tr>\n",
       "      <th>Yes</th>\n",
       "      <td>449</td>\n",
       "      <td>597</td>\n",
       "    </tr>\n",
       "  </tbody>\n",
       "</table>\n",
       "</div>"
      ],
      "text/plain": [
       "       No  Yes\n",
       "No   2574  323\n",
       "Yes   449  597"
      ]
     },
     "execution_count": 41,
     "metadata": {},
     "output_type": "execute_result"
    }
   ],
   "source": [
    "labels = sorted(y_train.unique())\n",
    "\n",
    "pd.DataFrame(confusion_matrix(y_train, y_pred), index=labels, columns=labels)"
   ]
  },
  {
   "cell_type": "code",
   "execution_count": 42,
   "id": "beef2ee0",
   "metadata": {},
   "outputs": [
    {
     "name": "stdout",
     "output_type": "stream",
     "text": [
      "              precision    recall  f1-score   support\n",
      "\n",
      "          No       0.85      0.89      0.87      2897\n",
      "         Yes       0.65      0.57      0.61      1046\n",
      "\n",
      "    accuracy                           0.80      3943\n",
      "   macro avg       0.75      0.73      0.74      3943\n",
      "weighted avg       0.80      0.80      0.80      3943\n",
      "\n"
     ]
    }
   ],
   "source": [
    "print(classification_report(y_train, y_pred))"
   ]
  },
  {
   "cell_type": "code",
   "execution_count": 43,
   "id": "016b949b",
   "metadata": {},
   "outputs": [
    {
     "name": "stdout",
     "output_type": "stream",
     "text": [
      "Accuracy of random forest classifier on validate set: 0.78\n"
     ]
    }
   ],
   "source": [
    "print('Accuracy of random forest classifier on validate set: {:.2f}'\n",
    "     .format(clf.score(X_validate, y_validate)))"
   ]
  },
  {
   "cell_type": "code",
   "execution_count": 44,
   "id": "2cc1624f",
   "metadata": {},
   "outputs": [
    {
     "name": "stdout",
     "output_type": "stream",
     "text": [
      "Decision Tree Depth: 2\n",
      "Accuracy of Decision Tree classifier on training set: 0.76\n",
      "Decision Tree Depth: 3\n",
      "Accuracy of Decision Tree classifier on training set: 0.79\n",
      "Decision Tree Depth: 4\n",
      "Accuracy of Decision Tree classifier on training set: 0.80\n",
      "Decision Tree Depth: 5\n",
      "Accuracy of Decision Tree classifier on training set: 0.80\n",
      "Decision Tree Depth: 6\n",
      "Accuracy of Decision Tree classifier on training set: 0.80\n",
      "Decision Tree Depth: 7\n",
      "Accuracy of Decision Tree classifier on training set: 0.81\n",
      "Decision Tree Depth: 8\n",
      "Accuracy of Decision Tree classifier on training set: 0.82\n",
      "Decision Tree Depth: 9\n",
      "Accuracy of Decision Tree classifier on training set: 0.83\n",
      "Decision Tree Depth: 10\n",
      "Accuracy of Decision Tree classifier on training set: 0.85\n",
      "Decision Tree Depth: 11\n",
      "Accuracy of Decision Tree classifier on training set: 0.86\n",
      "Decision Tree Depth: 12\n",
      "Accuracy of Decision Tree classifier on training set: 0.87\n",
      "Decision Tree Depth: 13\n",
      "Accuracy of Decision Tree classifier on training set: 0.89\n",
      "Decision Tree Depth: 14\n",
      "Accuracy of Decision Tree classifier on training set: 0.90\n",
      "Decision Tree Depth: 15\n",
      "Accuracy of Decision Tree classifier on training set: 0.90\n",
      "Decision Tree Depth: 16\n",
      "Accuracy of Decision Tree classifier on training set: 0.90\n",
      "Decision Tree Depth: 17\n",
      "Accuracy of Decision Tree classifier on training set: 0.91\n",
      "Decision Tree Depth: 18\n",
      "Accuracy of Decision Tree classifier on training set: 0.91\n",
      "Decision Tree Depth: 19\n",
      "Accuracy of Decision Tree classifier on training set: 0.91\n",
      "Decision Tree Depth: 20\n",
      "Accuracy of Decision Tree classifier on training set: 0.91\n",
      "Decision Tree Depth: 21\n",
      "Accuracy of Decision Tree classifier on training set: 0.91\n",
      "Decision Tree Depth: 22\n",
      "Accuracy of Decision Tree classifier on training set: 0.91\n",
      "Decision Tree Depth: 23\n",
      "Accuracy of Decision Tree classifier on training set: 0.91\n",
      "Decision Tree Depth: 24\n",
      "Accuracy of Decision Tree classifier on training set: 0.91\n",
      "Decision Tree Depth: 25\n",
      "Accuracy of Decision Tree classifier on training set: 0.91\n",
      "Decision Tree Depth: 26\n",
      "Accuracy of Decision Tree classifier on training set: 0.91\n",
      "Decision Tree Depth: 27\n",
      "Accuracy of Decision Tree classifier on training set: 0.91\n",
      "Decision Tree Depth: 28\n",
      "Accuracy of Decision Tree classifier on training set: 0.91\n",
      "Decision Tree Depth: 29\n",
      "Accuracy of Decision Tree classifier on training set: 0.91\n"
     ]
    }
   ],
   "source": [
    "for i in range(2, 30):\n",
    "    clf = DecisionTreeClassifier(max_depth=i, random_state=123)\n",
    "    clf = clf.fit(X_train, y_train)\n",
    "    print('Decision Tree Depth:', i)\n",
    "    print('Accuracy of Decision Tree classifier on training set: {:.2f}'\n",
    "      .format(clf.score(X_train, y_train)))"
   ]
  },
  {
   "cell_type": "code",
   "execution_count": 45,
   "id": "890ede7f",
   "metadata": {},
   "outputs": [],
   "source": [
    "# Try a basic KNN\n",
    "from sklearn.neighbors import KNeighborsClassifier"
   ]
  },
  {
   "cell_type": "code",
   "execution_count": 46,
   "id": "75fd9b91",
   "metadata": {},
   "outputs": [],
   "source": [
    "# weights = ['uniform', 'density']\n",
    "knn = KNeighborsClassifier(n_neighbors=3, weights='uniform')"
   ]
  },
  {
   "cell_type": "code",
   "execution_count": 47,
   "id": "168263c7",
   "metadata": {},
   "outputs": [
    {
     "data": {
      "text/plain": [
       "KNeighborsClassifier(n_neighbors=3)"
      ]
     },
     "execution_count": 47,
     "metadata": {},
     "output_type": "execute_result"
    }
   ],
   "source": [
    "knn.fit(X_train, y_train)"
   ]
  },
  {
   "cell_type": "code",
   "execution_count": 48,
   "id": "fa974bd0",
   "metadata": {},
   "outputs": [
    {
     "name": "stdout",
     "output_type": "stream",
     "text": [
      "Accuracy of KNN classifier on training set: 0.84\n"
     ]
    }
   ],
   "source": [
    "print('Accuracy of KNN classifier on training set: {:.2f}'\n",
    "     .format(knn.score(X_train, y_train)))"
   ]
  },
  {
   "cell_type": "code",
   "execution_count": 49,
   "id": "3d0e751b",
   "metadata": {},
   "outputs": [
    {
     "data": {
      "text/plain": [
       "array(['No', 'No', 'Yes', 'No', 'No'], dtype=object)"
      ]
     },
     "execution_count": 49,
     "metadata": {},
     "output_type": "execute_result"
    }
   ],
   "source": [
    "y_pred = knn.predict(X_train)\n",
    "y_pred[0:5]"
   ]
  },
  {
   "cell_type": "code",
   "execution_count": 50,
   "id": "19346ba5",
   "metadata": {},
   "outputs": [
    {
     "data": {
      "text/plain": [
       "array([[2698,  199],\n",
       "       [ 426,  620]])"
      ]
     },
     "execution_count": 50,
     "metadata": {},
     "output_type": "execute_result"
    }
   ],
   "source": [
    "confusion_matrix(y_train, y_pred)"
   ]
  },
  {
   "cell_type": "code",
   "execution_count": 51,
   "id": "9d9faae1",
   "metadata": {},
   "outputs": [
    {
     "name": "stdout",
     "output_type": "stream",
     "text": [
      "              precision    recall  f1-score   support\n",
      "\n",
      "          No       0.86      0.93      0.90      2897\n",
      "         Yes       0.76      0.59      0.66      1046\n",
      "\n",
      "    accuracy                           0.84      3943\n",
      "   macro avg       0.81      0.76      0.78      3943\n",
      "weighted avg       0.84      0.84      0.83      3943\n",
      "\n"
     ]
    }
   ],
   "source": [
    "print(classification_report(y_train, y_pred))"
   ]
  },
  {
   "cell_type": "code",
   "execution_count": 52,
   "id": "775b8dc9",
   "metadata": {},
   "outputs": [
    {
     "name": "stdout",
     "output_type": "stream",
     "text": [
      "Accuracy of random forest classifier on validate set: 0.73\n"
     ]
    }
   ],
   "source": [
    "print('Accuracy of random forest classifier on validate set: {:.2f}'\n",
    "     .format(knn.score(X_validate, y_validate)))"
   ]
  },
  {
   "cell_type": "code",
   "execution_count": 53,
   "id": "1c717648",
   "metadata": {},
   "outputs": [
    {
     "name": "stdout",
     "output_type": "stream",
     "text": [
      "Number of Neighbors: 2\n",
      "Accuracy of KNN classifier on training set: 0.83\n",
      "Number of Neighbors: 3\n",
      "Accuracy of KNN classifier on training set: 0.84\n",
      "Number of Neighbors: 4\n",
      "Accuracy of KNN classifier on training set: 0.82\n",
      "Number of Neighbors: 5\n",
      "Accuracy of KNN classifier on training set: 0.83\n",
      "Number of Neighbors: 6\n",
      "Accuracy of KNN classifier on training set: 0.82\n",
      "Number of Neighbors: 7\n",
      "Accuracy of KNN classifier on training set: 0.82\n"
     ]
    }
   ],
   "source": [
    "for i in range(2, 8):\n",
    "    knn = KNeighborsClassifier(n_neighbors=i, weights='uniform')\n",
    "    knn.fit(X_train, y_train)\n",
    "    print('Number of Neighbors:', i)\n",
    "    print('Accuracy of KNN classifier on training set: {:.2f}'\n",
    "     .format(knn.score(X_train, y_train)))"
   ]
  },
  {
   "cell_type": "code",
   "execution_count": 54,
   "id": "9672d402",
   "metadata": {},
   "outputs": [],
   "source": [
    "from sklearn.ensemble import RandomForestClassifier"
   ]
  },
  {
   "cell_type": "code",
   "execution_count": 55,
   "id": "68fc3771",
   "metadata": {},
   "outputs": [],
   "source": [
    "rf = RandomForestClassifier(max_depth=3, \n",
    "                            random_state=123)"
   ]
  },
  {
   "cell_type": "code",
   "execution_count": 56,
   "id": "f13829a6",
   "metadata": {},
   "outputs": [
    {
     "data": {
      "text/plain": [
       "RandomForestClassifier(max_depth=3, random_state=123)"
      ]
     },
     "execution_count": 56,
     "metadata": {},
     "output_type": "execute_result"
    }
   ],
   "source": [
    "rf.fit(X_train, y_train)"
   ]
  },
  {
   "cell_type": "code",
   "execution_count": 57,
   "id": "65ba39fc",
   "metadata": {},
   "outputs": [
    {
     "name": "stdout",
     "output_type": "stream",
     "text": [
      "Accuracy of random forest classifier on training set: 0.79\n"
     ]
    }
   ],
   "source": [
    "print('Accuracy of random forest classifier on training set: {:.2f}'\n",
    "     .format(rf.score(X_train, y_train)))"
   ]
  },
  {
   "cell_type": "code",
   "execution_count": 58,
   "id": "2e59149f",
   "metadata": {},
   "outputs": [
    {
     "data": {
      "text/plain": [
       "array(['No', 'No', 'Yes', 'No', 'No'], dtype=object)"
      ]
     },
     "execution_count": 58,
     "metadata": {},
     "output_type": "execute_result"
    }
   ],
   "source": [
    "y_pred = rf.predict(X_train)\n",
    "y_pred[0:5]"
   ]
  },
  {
   "cell_type": "code",
   "execution_count": 59,
   "id": "3af0d6fa",
   "metadata": {},
   "outputs": [
    {
     "data": {
      "text/plain": [
       "array([[2765,  132],\n",
       "       [ 695,  351]])"
      ]
     },
     "execution_count": 59,
     "metadata": {},
     "output_type": "execute_result"
    }
   ],
   "source": [
    "confusion_matrix(y_train, y_pred)"
   ]
  },
  {
   "cell_type": "code",
   "execution_count": 60,
   "id": "9437a58a",
   "metadata": {},
   "outputs": [
    {
     "name": "stdout",
     "output_type": "stream",
     "text": [
      "              precision    recall  f1-score   support\n",
      "\n",
      "          No       0.80      0.95      0.87      2897\n",
      "         Yes       0.73      0.34      0.46      1046\n",
      "\n",
      "    accuracy                           0.79      3943\n",
      "   macro avg       0.76      0.64      0.66      3943\n",
      "weighted avg       0.78      0.79      0.76      3943\n",
      "\n"
     ]
    }
   ],
   "source": [
    "print(classification_report(y_train, y_pred))"
   ]
  },
  {
   "cell_type": "code",
   "execution_count": 61,
   "id": "7fda880b",
   "metadata": {},
   "outputs": [
    {
     "name": "stdout",
     "output_type": "stream",
     "text": [
      "Accuracy of random forest classifier on validate set: 0.79\n"
     ]
    }
   ],
   "source": [
    "print('Accuracy of random forest classifier on validate set: {:.2f}'\n",
    "     .format(rf.score(X_validate, y_validate)))"
   ]
  },
  {
   "cell_type": "code",
   "execution_count": 62,
   "id": "0e6fd0df",
   "metadata": {},
   "outputs": [
    {
     "name": "stdout",
     "output_type": "stream",
     "text": [
      "Max Depth: 3\n",
      "Accuracy of random forest classifier on training set: 0.79\n",
      "Max Depth: 4\n",
      "Accuracy of random forest classifier on training set: 0.80\n",
      "Max Depth: 5\n",
      "Accuracy of random forest classifier on training set: 0.80\n",
      "Max Depth: 6\n",
      "Accuracy of random forest classifier on training set: 0.80\n",
      "Max Depth: 7\n",
      "Accuracy of random forest classifier on training set: 0.81\n",
      "Max Depth: 8\n",
      "Accuracy of random forest classifier on training set: 0.82\n",
      "Max Depth: 9\n",
      "Accuracy of random forest classifier on training set: 0.82\n",
      "Max Depth: 10\n",
      "Accuracy of random forest classifier on training set: 0.83\n",
      "Max Depth: 11\n",
      "Accuracy of random forest classifier on training set: 0.84\n",
      "Max Depth: 12\n",
      "Accuracy of random forest classifier on training set: 0.84\n",
      "Max Depth: 13\n",
      "Accuracy of random forest classifier on training set: 0.84\n",
      "Max Depth: 14\n",
      "Accuracy of random forest classifier on training set: 0.84\n",
      "Max Depth: 15\n",
      "Accuracy of random forest classifier on training set: 0.84\n",
      "Max Depth: 16\n",
      "Accuracy of random forest classifier on training set: 0.84\n",
      "Max Depth: 17\n",
      "Accuracy of random forest classifier on training set: 0.84\n",
      "Max Depth: 18\n",
      "Accuracy of random forest classifier on training set: 0.84\n",
      "Max Depth: 19\n",
      "Accuracy of random forest classifier on training set: 0.84\n"
     ]
    }
   ],
   "source": [
    "for i in range(3, 20):\n",
    "    rf = RandomForestClassifier(bootstrap=True, \n",
    "                            class_weight=None, \n",
    "                            criterion='gini',\n",
    "                            min_samples_leaf=3,\n",
    "                            n_estimators=100,\n",
    "                            max_depth=i, \n",
    "                            random_state=123)\n",
    "    rf.fit(X_train, y_train)\n",
    "    print('Max Depth:', i)\n",
    "    print('Accuracy of random forest classifier on training set: {:.2f}'\n",
    "     .format(rf.score(X_train, y_train)))"
   ]
  },
  {
   "cell_type": "code",
   "execution_count": 63,
   "id": "8d1a1ade",
   "metadata": {},
   "outputs": [],
   "source": [
    "from sklearn.linear_model import LogisticRegression"
   ]
  },
  {
   "cell_type": "code",
   "execution_count": 64,
   "id": "9485ace9",
   "metadata": {},
   "outputs": [],
   "source": [
    "# from sklearn.linear_model import LogisticRegression\n",
    "logit = LogisticRegression(C=1, random_state=123, intercept_scaling=1, solver='saga')"
   ]
  },
  {
   "cell_type": "code",
   "execution_count": 65,
   "id": "0fe7b602",
   "metadata": {},
   "outputs": [
    {
     "data": {
      "text/plain": [
       "LogisticRegression(C=1, random_state=123, solver='saga')"
      ]
     },
     "execution_count": 65,
     "metadata": {},
     "output_type": "execute_result"
    }
   ],
   "source": [
    "logit.fit(X_train, y_train)"
   ]
  },
  {
   "cell_type": "code",
   "execution_count": 66,
   "id": "d082a36a",
   "metadata": {},
   "outputs": [
    {
     "name": "stdout",
     "output_type": "stream",
     "text": [
      "Accuracy of Logistic Regression classifier on training set: 0.80\n"
     ]
    }
   ],
   "source": [
    "print('Accuracy of Logistic Regression classifier on training set: {:.2f}'\n",
    "     .format(logit.score(X_train, y_train)))"
   ]
  },
  {
   "cell_type": "code",
   "execution_count": 67,
   "id": "caddc587",
   "metadata": {},
   "outputs": [
    {
     "data": {
      "text/plain": [
       "array(['No', 'No', 'Yes', 'No', 'No'], dtype=object)"
      ]
     },
     "execution_count": 67,
     "metadata": {},
     "output_type": "execute_result"
    }
   ],
   "source": [
    "y_pred = logit.predict(X_train)\n",
    "y_pred[0:5]"
   ]
  },
  {
   "cell_type": "code",
   "execution_count": 68,
   "id": "01d019dd",
   "metadata": {},
   "outputs": [
    {
     "data": {
      "text/plain": [
       "array([[2593,  304],\n",
       "       [ 500,  546]])"
      ]
     },
     "execution_count": 68,
     "metadata": {},
     "output_type": "execute_result"
    }
   ],
   "source": [
    "confusion_matrix(y_train, y_pred)"
   ]
  },
  {
   "cell_type": "code",
   "execution_count": 69,
   "id": "3ec9fa04",
   "metadata": {},
   "outputs": [
    {
     "name": "stdout",
     "output_type": "stream",
     "text": [
      "              precision    recall  f1-score   support\n",
      "\n",
      "          No       0.84      0.90      0.87      2897\n",
      "         Yes       0.64      0.52      0.58      1046\n",
      "\n",
      "    accuracy                           0.80      3943\n",
      "   macro avg       0.74      0.71      0.72      3943\n",
      "weighted avg       0.79      0.80      0.79      3943\n",
      "\n"
     ]
    }
   ],
   "source": [
    "print(classification_report(y_train, y_pred))"
   ]
  },
  {
   "cell_type": "code",
   "execution_count": 70,
   "id": "94fc9957",
   "metadata": {},
   "outputs": [
    {
     "name": "stdout",
     "output_type": "stream",
     "text": [
      "Accuracy of random forest classifier on validate set: 0.80\n"
     ]
    }
   ],
   "source": [
    "print('Accuracy of random forest classifier on validate set: {:.2f}'\n",
    "     .format(logit.score(X_validate, y_validate)))"
   ]
  },
  {
   "cell_type": "code",
   "execution_count": 71,
   "id": "f302505c",
   "metadata": {},
   "outputs": [
    {
     "name": "stdout",
     "output_type": "stream",
     "text": [
      "Solver is: sag\n",
      "Accuracy of Logistic Regression classifier on training set: 0.79\n",
      "Solver is: liblinear\n",
      "Accuracy of Logistic Regression classifier on training set: 0.79\n",
      "Solver is: newton-cg\n",
      "Accuracy of Logistic Regression classifier on training set: 0.79\n",
      "Solver is: saga\n",
      "Accuracy of Logistic Regression classifier on training set: 0.80\n",
      "Solver is: lbfgs\n",
      "Accuracy of Logistic Regression classifier on training set: 0.79\n"
     ]
    }
   ],
   "source": [
    "for i in ['sag', 'liblinear', 'newton-cg', 'saga', 'lbfgs']:\n",
    "    logit = LogisticRegression(C=1, random_state=123, intercept_scaling=1, solver=i)\n",
    "    logit.fit(X_train, y_train)\n",
    "    print('Solver is:', i)\n",
    "    print('Accuracy of Logistic Regression classifier on training set: {:.2f}'\n",
    "     .format(logit.score(X_train, y_train)))"
   ]
  },
  {
   "cell_type": "code",
   "execution_count": null,
   "id": "ce323321",
   "metadata": {},
   "outputs": [],
   "source": []
  },
  {
   "cell_type": "code",
   "execution_count": null,
   "id": "4312cd03",
   "metadata": {},
   "outputs": [],
   "source": []
  },
  {
   "cell_type": "code",
   "execution_count": null,
   "id": "dd2f447b",
   "metadata": {},
   "outputs": [],
   "source": []
  }
 ],
 "metadata": {
  "kernelspec": {
   "display_name": "Python 3",
   "language": "python",
   "name": "python3"
  },
  "language_info": {
   "codemirror_mode": {
    "name": "ipython",
    "version": 3
   },
   "file_extension": ".py",
   "mimetype": "text/x-python",
   "name": "python",
   "nbconvert_exporter": "python",
   "pygments_lexer": "ipython3",
   "version": "3.8.8"
  }
 },
 "nbformat": 4,
 "nbformat_minor": 5
}
